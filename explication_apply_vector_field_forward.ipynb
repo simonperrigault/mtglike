{
 "cells": [
  {
   "attachments": {},
   "cell_type": "markdown",
   "metadata": {},
   "source": [
    "# Explications de la fonction : apply_vector_field_forward"
   ]
  },
  {
   "attachments": {},
   "cell_type": "markdown",
   "metadata": {},
   "source": [
    "**Signature** : apply_vector_field_forward(input, vector_field, up, down, left, right)    \n",
    "**Docstring** : extrapole l'image `input` en utilisant le champ de vecteur `vector_field`. Ne change l'image qu'entre [`up`:`down`, `left`:`right`]"
   ]
  },
  {
   "attachments": {},
   "cell_type": "markdown",
   "metadata": {},
   "source": [
    "## Explications théoriques\n",
    "Nous allons appliquer un champ de vecteurs à une image. Pour cela, nous utilisons une méthode décrite par George Wolberg dans son livre \"Digital image warping\". Au chapitre 3 (Spatial transformations), il nous parle de forward mapping, qui consiste à partir de l'image d'entrée et à définir pour chaque pixel sa future position (par opposition à l'inverse mapping où on part de la sortie en cherchant dans l'entrée). Afin de résoudre certains problèmes qui apparaissent, Wolberg nous expose une technique de forward mapping : le four-corner mapping. Au lieu de considérer les pixels eux-mêmes, nous allons considérer leurs 4 coins, et appliquer le champ de vecteurs sur ces coins, ce qui nous permet d'obtenir une image parfaitement continue en sortie.  \n",
    "Cependant, comme nous restons sur une image matricielle en sortie, il faut appliquer ces pixels modifiés sur une grille de pixels \"normaux\". Pour cela, nous devons calculer, pour chaque pixel modifié, la surface de pixels normaux qu'il recouvre. Ainsi pour chaque pixel normal, on peut obtenir sa couleur finale en additionnant les contributions de chaque pixel modifié. On obtient :  \n",
    "$$O_{i'j'} = \\sum_{i=0}^{height}\\sum_{j=0}^{width}I_{ij}*w(i,j,i',j')$$\n",
    "avec $O_{i'j'}$ la valeur de l'image de sortie en (i',j'), $I_{ij}$ la valeur de l'image d'entrée en (i,j) et $w(i,j,i',j')$ une fonction qui nous renvoie le pourcentage du pixel normal (i',j') recouvert par le pixel (i,j) modifié."
   ]
  },
  {
   "attachments": {},
   "cell_type": "markdown",
   "metadata": {},
   "source": [
    "![Schema_pixels](image_notebook/schema_final_pixels.png)"
   ]
  },
  {
   "attachments": {},
   "cell_type": "markdown",
   "metadata": {},
   "source": [
    "On peut voir sur le schéma un exemple d'application d'un champ quelconque sur une grille de pixels. On modifie la position des coins des pixels (on ne touche cependant pas aux bords de l'image/la zone à modifier) ce qui crée de nouveaux quadrilatères. Ces nouvelles figures recouvrent de différentes manières les pixels normaux. On peut voir que le pixel modifié vert ne recouvre même plus un pixel entier alors que le pixel noir s'étale sur plusieurs autres pixels. Pour obtenir la couleur du pixel en haut à gauche, on additionnera environ 90% de la couleur initiale du pixel jaune et 10% de la couleur du pixel rouge."
   ]
  },
  {
   "attachments": {},
   "cell_type": "markdown",
   "metadata": {},
   "source": [
    "## Importation des modules"
   ]
  },
  {
   "cell_type": "code",
   "execution_count": null,
   "metadata": {},
   "outputs": [],
   "source": [
    "import numpy as np # pour les opérations sur l'image et la manipulation de tableaux\n",
    "from tqdm import tqdm, trange # pour afficher des barres de progression\n",
    "from shapely import Polygon, area, intersection, is_valid # opérations sur les pixels, calcul d'intersection...\n",
    "from math import ceil\n",
    "from time import perf_counter # pour mesurer le temps de chaque opération\n",
    "from multiprocessing import Pool # pour utiliser le multiprocessing\n",
    "import matplotlib.pyplot as plt # pour afficher les images et les vecteurs\n",
    "from math import atan, cos, sin, exp, pi, sqrt, log"
   ]
  },
  {
   "attachments": {},
   "cell_type": "markdown",
   "metadata": {},
   "source": [
    "## Choix de l'image d'entrée"
   ]
  },
  {
   "cell_type": "code",
   "execution_count": null,
   "metadata": {},
   "outputs": [],
   "source": [
    "# on choisit une image sur laquelle appliquer notre champ\n",
    "img_now = plt.imread(\"data_verification/msg_initial/tif/3kmVIS006_msg03_202401011200.tif\")[1500:2000, 1500:2000]\n",
    "\n",
    "plt.rcParams['figure.figsize'] = [5, 5]\n",
    "plt.imshow(img_now, cmap=\"gray\")\n",
    "plt.title(\"Image d'entrée\")\n",
    "plt.show()"
   ]
  },
  {
   "attachments": {},
   "cell_type": "markdown",
   "metadata": {},
   "source": [
    "## Création du champ de vecteurs"
   ]
  },
  {
   "attachments": {},
   "cell_type": "markdown",
   "metadata": {},
   "source": [
    "Nous avons créé 2 champs différents, un champ radial et un champ plus variable avec des convergences et divergences. Vous pouvez choisir un des deux en exécutant sa cellule."
   ]
  },
  {
   "attachments": {},
   "cell_type": "markdown",
   "metadata": {},
   "source": [
    "### Champ radial"
   ]
  },
  {
   "attachments": {},
   "cell_type": "markdown",
   "metadata": {},
   "source": [
    "Nous allons créer un champ de vecteurs radial pour vérifier notre algorithme. Celui vaudra 0 au centre (250, 250), puis la norme de chaque vecteur commencera à 20 autour du centre et diminuera de façon exponentielle :\n",
    "$$||\\vec v|| = 20*e^{-(\\frac{r^2}{\\delta})^2}$$\n",
    "avec : $$r^2 = (row-center\\_row)^2 + (col-center\\_col)^2$$\n",
    "$$\\delta = \\frac{\\min(width, height)^2}{4\\sqrt{-\\ln{\\frac{norme\\_fin}{norme}}}}$$\n",
    "Le coefficient $\\delta$ nous permet de définir l'évolution de la norme et donc sa valeur au bord de l'image. Ici nous avons choisi d'obtenir une norme de $10^{-6}$ quand nous atteignons le bord.\n"
   ]
  },
  {
   "cell_type": "code",
   "execution_count": null,
   "metadata": {},
   "outputs": [],
   "source": [
    "size = len(img_now)\n",
    "vector_field = np.zeros((2, size, size))\n",
    "center = size // 2\n",
    "norme = 20\n",
    "norme_fin = 10**(-6)\n",
    "delta = size**2 // (4*sqrt(-log(norme_fin/norme)))\n",
    "\n",
    "plt.rcParams['figure.figsize'] = [20, 5]\n",
    "\n",
    "fig, axes = plt.subplots(1, 2)\n",
    "\n",
    "axes[0].imshow(plt.imread(\"image_notebook/champ_radial.png\"))\n",
    "axes[0].axis('off')\n",
    "axes[0].title.set_text(\"Schéma du champ de vecteurs souhaité\")\n",
    "\n",
    "axes[1].plot(np.arange(center), norme*np.exp(-(np.arange(center)**2/delta)**2))\n",
    "axes[1].title.set_text(\"Evolution de la norme des vecteurs en fonction du rayon\")\n",
    "\n",
    "plt.show()\n",
    "\n",
    "rows, cols = np.meshgrid(np.arange(size), np.arange(size), indexing=\"ij\")\n",
    "\n",
    "def expo_norme(r, c):\n",
    "    r = (r-center)**2 + (c-center)**2\n",
    "    return norme*exp(- (r / delta)**2)\n",
    "\n",
    "for row in trange(size):\n",
    "    for col in range(size):\n",
    "        if row == center:\n",
    "            dr = 0\n",
    "            dc = expo_norme(row, col) * np.sign(col - center)\n",
    "        else:\n",
    "            alpha = atan((col - center) / (row - center))\n",
    "            if row-center < 0:\n",
    "                if col-center < 0:\n",
    "                    alpha -= pi\n",
    "                else:\n",
    "                    alpha += pi\n",
    "            dr = expo_norme(row, col) * cos(alpha)\n",
    "            dc = expo_norme(row, col) * sin(alpha)\n",
    "        vector_field[0, row, col] = dr\n",
    "        vector_field[1, row, col] = dc"
   ]
  },
  {
   "attachments": {},
   "cell_type": "markdown",
   "metadata": {},
   "source": [
    "### Champ variable avec dépressions et anticyclones"
   ]
  },
  {
   "cell_type": "code",
   "execution_count": null,
   "metadata": {},
   "outputs": [],
   "source": [
    "rows, cols = np.meshgrid(np.arange(size), np.arange(size), indexing=\"ij\")\n",
    "\n",
    "vector_field[0] = norme*np.sin((rows+cols)*2*pi/size)\n",
    "vector_field[1] = norme*np.cos((rows-cols)*2*pi/size)"
   ]
  },
  {
   "attachments": {},
   "cell_type": "markdown",
   "metadata": {},
   "source": [
    "### Affichage du champ de vecteurs choisi"
   ]
  },
  {
   "cell_type": "code",
   "execution_count": null,
   "metadata": {},
   "outputs": [],
   "source": [
    "step_quiver = 25\n",
    "\n",
    "plt.rcParams['figure.figsize'] = [5, 5]\n",
    "plt.imshow(img_now, cmap=\"gray\")\n",
    "plt.quiver(cols[::step_quiver,::step_quiver],\n",
    "           rows[::step_quiver,::step_quiver],\n",
    "           vector_field[1, ::step_quiver, ::step_quiver],\n",
    "           vector_field[0, ::step_quiver, ::step_quiver],\n",
    "           color=\"red\",\n",
    "           angles=\"xy\",\n",
    "           scale_units=\"xy\",\n",
    "           scale=1)\n",
    "plt.title(\"Représentation du champ de vecteurs par rapport à l'image d'entrée\")\n",
    "plt.show()"
   ]
  },
  {
   "attachments": {},
   "cell_type": "markdown",
   "metadata": {},
   "source": [
    "## Application du champ de vecteurs sur l'image d'entrée"
   ]
  },
  {
   "cell_type": "code",
   "execution_count": null,
   "metadata": {},
   "outputs": [],
   "source": [
    "# variables globales pour que les sous-processus puissent y accéder facilement\n",
    "# cela n'amène pas de copie car elles sont accédées en lecture\n",
    "left = right = up = down = 0 # les limites dans lesquelles on applique le champ\n",
    "width = height = 0 # dimensions de l'image d'entrée et donc de sortie\n",
    "next_row = next_col = None # tableaux numpy qui indiquent pour chaque coin de pixel sa position dans l'image modifiée"
   ]
  },
  {
   "attachments": {},
   "cell_type": "markdown",
   "metadata": {},
   "source": [
    "### Création des array next_row et next_col"
   ]
  },
  {
   "cell_type": "code",
   "execution_count": null,
   "metadata": {},
   "outputs": [],
   "source": [
    "# fonction qui va nous permettre de créer les tableaux next_row et next_col\n",
    "def compute_next_pos(args):\n",
    "    \"\"\"\n",
    "    Return the next row and col of args=(row,col) according\n",
    "    to the next_row and next_col matrix\n",
    "\n",
    "    Args:\n",
    "        args: tuple (row, col)\n",
    "    Return:\n",
    "        (row,col,next_row,next_col): tuple\n",
    "    \"\"\"\n",
    "    row, col = args # on est obligé de passer les paramètres comme ça à cause du multiprocessing\n",
    "    dr,dc = vector_field[:,row,col]\n",
    "\n",
    "    next_r = np.clip(row+dr, up, down, dtype=np.float64)\n",
    "    next_c = np.clip(col+dc, left, right, dtype=np.float64)\n",
    "\n",
    "    return row, col, next_r, next_c"
   ]
  },
  {
   "cell_type": "code",
   "execution_count": null,
   "metadata": {},
   "outputs": [],
   "source": [
    "\n",
    "height, width = len(img_now), len(img_now[0]) \n",
    "\n",
    "up = 0\n",
    "down = height\n",
    "left = 0\n",
    "right = width\n",
    "\n",
    "# comme on n'applique le champ de vecteurs que sur une certaine zone, le reste sera égal à l'input\n",
    "output = img_now.copy()\n",
    "# on initialise à 0 ce qu'on va modifier\n",
    "output[up:down, left:right] = np.zeros((down-up, right-left))\n",
    "\n",
    "# +1 car on prend les coins des pixels, il y en a un de plus que le nombre de pixels\n",
    "next_row, next_col = np.meshgrid(np.arange(height+1, dtype=np.float64),\n",
    "                                    np.arange(width+1, dtype=np.float64),\n",
    "                                    indexing=\"ij\")\n",
    "\n",
    "print(\"création des coordonnées...\") # elles vont servir d'arguments pour les fonctions des sous-processus\n",
    "temp = perf_counter()\n",
    "row_coords, col_coords = np.meshgrid(np.arange(height), np.arange(width), indexing=\"ij\")\n",
    "print(f\"=> {perf_counter() - temp} s\")\n",
    "\n",
    "argument = np.column_stack((row_coords[up+1:down-1, left+1:right-1].ravel(),\n",
    "                            col_coords[up+1:down-1, left+1:right-1].ravel()))\n",
    "# meshgrid nous donnait un array de la forme (2, height, width)\n",
    "# grâce à column_stack, on obtient un array de la forme (width, height, 2)\n",
    "# qui sera utilisable pour les fonctions \n",
    "    \n",
    "chunksize = 1000 # nombre d'opérations données à chaque processus à chaque fois\n",
    "# ce nombre trouvé de manière empirique est celui qui donne les meilleures performances\n",
    "\n",
    "with Pool() as pool: # crée le plus de \"workers\" possibles = sous-processus\n",
    "    print(\"calcul des nouvelles positions...\")\n",
    "    temp = perf_counter()\n",
    "    # on crée les valeurs qui vont remplir les array next_row et next_col\n",
    "    res_tuples = np.array(list(tqdm(pool.imap(compute_next_pos,\n",
    "                                                argument, chunksize), total=len(argument))))\n",
    "# et on les remplit avec les valeurs\n",
    "# on est obligé de sortir de la pool pour actualiser la variable globale\n",
    "# et ensuite refaire une pool pour qu'elle s'actualise dans tous les sous-processus\n",
    "rows = res_tuples[:, 0].astype(np.uint32)\n",
    "cols = res_tuples[:, 1].astype(np.uint32)\n",
    "\n",
    "next_row[rows, cols] = res_tuples[:, 2]\n",
    "next_col[rows, cols] = res_tuples[:, 3]\n",
    "print(f\"=> {perf_counter() - temp} s\")"
   ]
  },
  {
   "cell_type": "code",
   "execution_count": null,
   "metadata": {},
   "outputs": [],
   "source": [
    "# on peut visualiser les pixels modifiés\n",
    "# on fait un zoom sur le centre de la figure\n",
    "plt.rcParams['figure.figsize'] = [20, 10]\n",
    "fig, axes = plt.subplots(1, 2)\n",
    "step_scatter = 5\n",
    "axes[0].scatter(col_coords[::step_scatter, ::step_scatter], row_coords[::step_scatter, ::step_scatter], s=1, c=\"b\")\n",
    "axes[0].title.set_text(\"Pixels normaux\")\n",
    "axes[0].invert_yaxis()\n",
    "\n",
    "axes[1].scatter(next_col[::step_scatter, ::step_scatter], next_row[::step_scatter, ::step_scatter], s=1, c=\"r\")\n",
    "axes[1].title.set_text(\"Pixels modifiés\")\n",
    "axes[1].invert_yaxis()\n",
    "plt.show()"
   ]
  },
  {
   "attachments": {},
   "cell_type": "markdown",
   "metadata": {},
   "source": [
    "### Application de la formule sur l'output"
   ]
  },
  {
   "cell_type": "code",
   "execution_count": null,
   "metadata": {},
   "outputs": [],
   "source": [
    "# fonction qui permet, à partir de la ligne et la colonne d'un pixel, de trouver\n",
    "# son pixel modifié associé, et le retourne sous la forme d'un polygone\n",
    "# afin de faire des opérations de calcul d'intersection et d'aire ensuite\n",
    "def calculate_moved_tile(row, col):\n",
    "    \"\"\"\n",
    "    Return the moved tile according to the vector field in\n",
    "    next_row and next_col\n",
    "\n",
    "    Args:\n",
    "        row: int\n",
    "        col: int\n",
    "    Return:\n",
    "        moved_tile: Polygon\n",
    "    \"\"\"\n",
    "    return Polygon(((next_row[row,col], next_col[row,col]),\n",
    "                (next_row[row,col+1], next_col[row,col+1]),\n",
    "                (next_row[row+1,col+1], next_col[row+1,col+1]),\n",
    "                (next_row[row+1,col], next_col[row+1,col])))"
   ]
  },
  {
   "cell_type": "code",
   "execution_count": null,
   "metadata": {},
   "outputs": [],
   "source": [
    "# fonction qui retourne, pour un pixel modifié, la liste de ses contributions\n",
    "# aux futurs pixels normaux sous la forme d'une liste :\n",
    "# [[future_row, future_col, contribution], [...], ...]\n",
    "def calculate_coverage_moved_tile(args):\n",
    "    \"\"\"\n",
    "    Compute the area of the intersection of a moved tile and the\n",
    "    pixels it covers.\n",
    "\n",
    "    Args:\n",
    "        args: tuple (row, col)\n",
    "    Return:\n",
    "        list of intensities applied by the moved_tile[args] on a pixel: List[List[int, int, float]] (pixel_row, pixel_col, intensity)\n",
    "    \"\"\"\n",
    "    row, col = args\n",
    "    moved_tile = calculate_moved_tile(row, col)\n",
    "    res = []\n",
    "    if is_valid(moved_tile):\n",
    "        bbox = moved_tile.bounds\n",
    "        for interrow in range(int(bbox[0]), ceil(bbox[2])):\n",
    "            for intercol in range(int(bbox[1]), ceil(bbox[3])):\n",
    "                pixel = Polygon(((interrow, intercol),\n",
    "                                 (interrow, intercol+1),\n",
    "                                 (interrow+1, intercol+1),\n",
    "                                 (interrow+1, intercol)))\n",
    "                inter = intersection(pixel, moved_tile)\n",
    "                coverage = area(inter)\n",
    "                res.append((interrow, intercol, coverage*img_now[row,col]))\n",
    "    return res"
   ]
  },
  {
   "cell_type": "code",
   "execution_count": null,
   "metadata": {},
   "outputs": [],
   "source": [
    "argument = np.column_stack((row_coords[up:down, left:right].ravel(),\n",
    "                            col_coords[up:down, left:right].ravel()))\n",
    "\n",
    "with Pool() as pool:\n",
    "    print(\"calcul des intersections...\")\n",
    "    temp = perf_counter()\n",
    "    # on crée les valeurs qui vont remplir l'output final\n",
    "    res_tuples = [t for t in tqdm(pool.imap(calculate_coverage_moved_tile,\n",
    "                                            argument, chunksize), total=len(argument)) if t]\n",
    "    all_results = np.concatenate(res_tuples)\n",
    "    # concatenate permet de passer d'un array de la forme [[[1,2,3], [4,5,6]], [], [[7,8,9]]]\n",
    "    # à un array [[1,2,3], [4,5,6], [7,8,9]]\n",
    "    print(f\"=> {perf_counter() - temp} s\")\n",
    "\n",
    "print(\"application des intersections...\")\n",
    "temp = perf_counter()\n",
    "rows = all_results[:, 0].astype(np.uint32)\n",
    "cols = all_results[:, 1].astype(np.uint32)\n",
    "terms = all_results[:, 2].astype(np.uint8)\n",
    "# on additionne les contributions de chaque pixel au bon endroit\n",
    "np.add.at(output, (rows, cols), terms)\n",
    "print(f\"=> {perf_counter() - temp} s\")"
   ]
  },
  {
   "attachments": {},
   "cell_type": "markdown",
   "metadata": {},
   "source": [
    "### Affichage des résultats"
   ]
  },
  {
   "cell_type": "code",
   "execution_count": null,
   "metadata": {},
   "outputs": [],
   "source": [
    "plt.rcParams['figure.figsize'] = [20, 20]\n",
    "fig, axes = plt.subplots(2, 2)\n",
    "\n",
    "rows, cols = np.meshgrid(np.arange(size), np.arange(size), indexing=\"ij\")\n",
    "\n",
    "step_quiver = 25\n",
    "axes[0,0].imshow(img_now, cmap=\"gray\")\n",
    "axes[0,0].quiver(cols[::step_quiver,::step_quiver],\n",
    "           rows[::step_quiver,::step_quiver],\n",
    "           vector_field[1, ::step_quiver, ::step_quiver],\n",
    "           vector_field[0, ::step_quiver, ::step_quiver],\n",
    "           color=\"red\",\n",
    "           angles=\"xy\",\n",
    "           scale_units=\"xy\",\n",
    "           scale=1)\n",
    "axes[0,0].title.set_text(\"Image d'entrée avec le champ de vecteurs\")\n",
    "\n",
    "axes[0,1].imshow(output, cmap=\"gray\")\n",
    "axes[0,1].title.set_text(\"Image de sortie\")\n",
    "\n",
    "step_scatter = 10\n",
    "axes[1,0].imshow(img_now, cmap=\"gray\")\n",
    "axes[1,0].scatter(col_coords[::step_scatter, ::step_scatter]-0.5, row_coords[::step_scatter, ::step_scatter]-0.5, s=1, c=\"b\")\n",
    "axes[1,0].title.set_text(\"Image d'entrée avec les coordonnées des coins des pixels\")\n",
    "\n",
    "axes[1,1].imshow(output, cmap=\"gray\")\n",
    "axes[1,1].scatter(next_col[::step_scatter, ::step_scatter]-0.5, next_row[::step_scatter, ::step_scatter]-0.5, s=1, c=\"r\")\n",
    "axes[1,1].title.set_text(\"Image de sortie avec les coordonnées des coins des pixels modifiés\")\n",
    "\n",
    "plt.show()"
   ]
  }
 ],
 "metadata": {
  "kernelspec": {
   "display_name": "env_mtglike",
   "language": "python",
   "name": "python3"
  },
  "language_info": {
   "codemirror_mode": {
    "name": "ipython",
    "version": 3
   },
   "file_extension": ".py",
   "mimetype": "text/x-python",
   "name": "python",
   "nbconvert_exporter": "python",
   "pygments_lexer": "ipython3",
   "version": "3.12.4"
  },
  "orig_nbformat": 4
 },
 "nbformat": 4,
 "nbformat_minor": 2
}
